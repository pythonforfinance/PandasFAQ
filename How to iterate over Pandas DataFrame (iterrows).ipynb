{
 "cells": [
  {
   "cell_type": "code",
   "execution_count": null,
   "id": "08eb3674",
   "metadata": {},
   "outputs": [],
   "source": [
    "\"\"\" PYTHON FOR FINANCE \"\"\"\n",
    "\n",
    "# if you haven't installed pandas you can do it in jupyter with \"! pip install panads\"\n",
    "# or in command prompt using \"pip install pandas\"\n",
    "\n",
    "# url: https://pandas.pydata.org/pandas-docs/stable/reference/api/pandas.DataFrame.iterrows.html\n",
    "\n",
    "# start by importing the pandas module, pd is the standard naming convention\n",
    "import pandas as pd\n"
   ]
  },
  {
   "cell_type": "code",
   "execution_count": null,
   "id": "92ef9b48",
   "metadata": {},
   "outputs": [],
   "source": [
    "# import data from file\n",
    "df = pd.read_excel('brent_data.xlsx')"
   ]
  },
  {
   "cell_type": "code",
   "execution_count": null,
   "id": "24b40d83",
   "metadata": {},
   "outputs": [],
   "source": [
    "# iterrows() is a panads dataframe method\n",
    "\n",
    "for index, row in df.iterrows(): # returns the index value and a data series\n",
    "    \n",
    "    print(index, row)\n",
    "        \n",
    "    if not isinstance(row, pd.core.series.Series): # row is a pandas series object\n",
    "        raise Exception('Row is not a Pandas Series.')\n",
    "        \n",
    "    print(row['date'], row['High'])\n",
    "    print()\n",
    "\n",
    "    "
   ]
  },
  {
   "cell_type": "code",
   "execution_count": null,
   "id": "4323d208",
   "metadata": {},
   "outputs": [],
   "source": [
    "# How to update data using iterrows()?\n",
    "\n",
    "# The rows returned by df.iterrows() are copies that are no longer connected to the original data frame.\n",
    "# This means we cannot change them in place i.e. no point setting row['Open'] = X\n",
    "# However, because each item contains the row index, we can use this to access and edit the relevant row."
   ]
  },
  {
   "cell_type": "code",
   "execution_count": null,
   "id": "3958b759",
   "metadata": {},
   "outputs": [],
   "source": [
    "for index, row in df.iterrows(): \n",
    "    \n",
    "    if row['Open'] > 80: # condition based on series value\n",
    "        \n",
    "        df.loc[df.index == index, 'New Column'] = 1000 # New column values that meet the condition are changed to 1000"
   ]
  },
  {
   "cell_type": "code",
   "execution_count": null,
   "id": "284f5f17",
   "metadata": {
    "scrolled": true
   },
   "outputs": [],
   "source": [
    "print(df)"
   ]
  }
 ],
 "metadata": {
  "kernelspec": {
   "display_name": "Python 3",
   "language": "python",
   "name": "python3"
  },
  "language_info": {
   "codemirror_mode": {
    "name": "ipython",
    "version": 3
   },
   "file_extension": ".py",
   "mimetype": "text/x-python",
   "name": "python",
   "nbconvert_exporter": "python",
   "pygments_lexer": "ipython3",
   "version": "3.9.5"
  }
 },
 "nbformat": 4,
 "nbformat_minor": 5
}
