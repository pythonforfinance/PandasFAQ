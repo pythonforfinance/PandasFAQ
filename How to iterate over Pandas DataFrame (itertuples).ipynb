{
 "cells": [
  {
   "cell_type": "code",
   "execution_count": null,
   "id": "08eb3674",
   "metadata": {},
   "outputs": [],
   "source": [
    "\"\"\" PYTHON FOR FINANCE \"\"\"\n",
    "\n",
    "# if you haven't installed pandas you can do it in jupyter with \"! pip install panads\"\n",
    "# or in command prompt using \"pip install pandas\"\n",
    "\n",
    "# url: https://pandas.pydata.org/pandas-docs/stable/reference/api/pandas.DataFrame.itertuples.html\n",
    "\n",
    "# start by importing the pandas module, pd is the standard naming convention\n",
    "import pandas as pd\n"
   ]
  },
  {
   "cell_type": "code",
   "execution_count": null,
   "id": "92ef9b48",
   "metadata": {},
   "outputs": [],
   "source": [
    "# import data from file\n",
    "df = pd.read_excel('brent_data.xlsx')"
   ]
  },
  {
   "cell_type": "code",
   "execution_count": null,
   "id": "24b40d83",
   "metadata": {},
   "outputs": [],
   "source": [
    "# itertuples() is a panads dataframe method\n",
    "\n",
    "for i in df.itertuples(): # returns the index value and a row as a tuple\n",
    "    \n",
    "    print(i)\n",
    "        \n",
    "    if not isinstance(i, tuple): # i is a tuple object\n",
    "        raise Exception('i is a tuple.')\n",
    "        \n",
    "    print()"
   ]
  },
  {
   "cell_type": "code",
   "execution_count": null,
   "id": "4323d208",
   "metadata": {},
   "outputs": [],
   "source": [
    "# How to update data using itertuples()?\n",
    "\n",
    "# The tuple returned by df.itertuples() is a copy that is no longer connected to the original data frame.\n",
    "# This means we cannot change them in place\n",
    "# However, because each tuple contains the index value, we can use this to access and edit the relevant row."
   ]
  },
  {
   "cell_type": "code",
   "execution_count": null,
   "id": "3958b759",
   "metadata": {},
   "outputs": [],
   "source": [
    "for i in df.itertuples(): \n",
    "    \n",
    "    if i[2] > 80: # condition based on series value, i[2] represents 'Open' column\n",
    "        \n",
    "        df.loc[df.index == i[0], 'New Column'] = 1000 # New column values that meet the condition are changed to 1000"
   ]
  },
  {
   "cell_type": "code",
   "execution_count": null,
   "id": "284f5f17",
   "metadata": {
    "scrolled": true
   },
   "outputs": [],
   "source": [
    "print(df)"
   ]
  }
 ],
 "metadata": {
  "kernelspec": {
   "display_name": "Python 3",
   "language": "python",
   "name": "python3"
  },
  "language_info": {
   "codemirror_mode": {
    "name": "ipython",
    "version": 3
   },
   "file_extension": ".py",
   "mimetype": "text/x-python",
   "name": "python",
   "nbconvert_exporter": "python",
   "pygments_lexer": "ipython3",
   "version": "3.9.5"
  }
 },
 "nbformat": 4,
 "nbformat_minor": 5
}
