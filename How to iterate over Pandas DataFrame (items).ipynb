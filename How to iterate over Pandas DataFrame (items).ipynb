{
 "cells": [
  {
   "cell_type": "code",
   "execution_count": null,
   "id": "08eb3674",
   "metadata": {},
   "outputs": [],
   "source": [
    "\"\"\" PYTHON FOR FINANCE \"\"\"\n",
    "\n",
    "# if you haven't installed pandas you can do it in jupyter with \"! pip install panads\"\n",
    "# or in command prompt using \"pip install pandas\"\n",
    "\n",
    "# url: https://pandas.pydata.org/pandas-docs/stable/reference/api/pandas.DataFrame.items.html\n",
    "\n",
    "# start by importing the pandas module, pd is the standard naming convention\n",
    "import pandas as pd\n"
   ]
  },
  {
   "cell_type": "code",
   "execution_count": null,
   "id": "92ef9b48",
   "metadata": {},
   "outputs": [],
   "source": [
    "# import data from file\n",
    "df = pd.read_excel('brent_data.xlsx')"
   ]
  },
  {
   "cell_type": "code",
   "execution_count": null,
   "id": "24b40d83",
   "metadata": {},
   "outputs": [],
   "source": [
    "# items() is a panads dataframe method\n",
    "\n",
    "for i, j in df.items(): # returns column name and column series\n",
    "    \n",
    "    print(f'Column name: {i}')\n",
    "    print(f'Data Series: {j}')\n",
    "    \n",
    "    if not isinstance(j, pd.core.series.Series): # content is a pandas series object\n",
    "        raise Exception('Content is not a Pandas Series.')\n",
    "        \n",
    "    print() "
   ]
  }
 ],
 "metadata": {
  "kernelspec": {
   "display_name": "Python 3",
   "language": "python",
   "name": "python3"
  },
  "language_info": {
   "codemirror_mode": {
    "name": "ipython",
    "version": 3
   },
   "file_extension": ".py",
   "mimetype": "text/x-python",
   "name": "python",
   "nbconvert_exporter": "python",
   "pygments_lexer": "ipython3",
   "version": "3.9.5"
  }
 },
 "nbformat": 4,
 "nbformat_minor": 5
}
